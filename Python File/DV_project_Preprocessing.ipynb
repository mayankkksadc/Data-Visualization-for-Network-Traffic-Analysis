{
 "cells": [
  {
   "cell_type": "code",
   "execution_count": 1,
   "id": "a001a371-0f81-4d31-ba46-91764105ae59",
   "metadata": {
    "id": "a001a371-0f81-4d31-ba46-91764105ae59"
   },
   "outputs": [],
   "source": [
    "#Imported Necessary Packages\n",
    "import pandas as pd\n",
    "import numpy as np\n",
    "import datetime as dt"
   ]
  },
  {
   "cell_type": "code",
   "execution_count": 2,
   "id": "bf48a83f-0585-4d0b-b018-ae2e611166d6",
   "metadata": {
    "colab": {
     "base_uri": "https://localhost:8080/"
    },
    "id": "bf48a83f-0585-4d0b-b018-ae2e611166d6",
    "outputId": "e06d41a3-78ee-4a58-e712-beea869bbdf9"
   },
   "outputs": [
    {
     "name": "stdout",
     "output_type": "stream",
     "text": [
      "False    445909\n",
      "Name: Flow Bytes/s, dtype: int64\n",
      "False    225745\n",
      "Name: Flow Bytes/s, dtype: int64\n",
      "False    286467\n",
      "Name: Flow Bytes/s, dtype: int64\n",
      "False    286467\n",
      "Name: Flow Bytes/s, dtype: int64\n",
      "False    529918\n",
      "Name: Flow Bytes/s, dtype: int64\n",
      "False    288602\n",
      "Name: Flow Bytes/s, dtype: int64\n",
      "False    445909\n",
      "Name: Flow Bytes/s, dtype: int64\n",
      "False    692703\n",
      "Name: Flow Bytes/s, dtype: int64\n"
     ]
    }
   ],
   "source": [
    "#Loading each csv files of a dataset\n",
    "list_of_csv=['Tuesday-WorkingHours.pcap_ISCX.csv','Friday-WorkingHours-Afternoon-DDos.pcap_ISCX.csv','Friday-WorkingHours-Afternoon-PortScan.pcap_ISCX.csv','Friday-WorkingHours-Afternoon-PortScan.pcap_ISCX.csv','Monday-WorkingHours.pcap_ISCX.csv','Thursday-WorkingHours-Afternoon-Infilteration.pcap_ISCX.csv','Tuesday-WorkingHours.pcap_ISCX.csv','Wednesday-workingHours.pcap_ISCX.csv']\n",
    "combined_df=pd.DataFrame()\n",
    "l=[]\n",
    "for x in list_of_csv:\n",
    "    x=f'/Users/mayankkapadia/Desktop/SJSUMATERIAL/SEM1/DV/Project/TrafficLabelling /{x}'\n",
    "    df=pd.read_csv(x, on_bad_lines='skip')\n",
    "    #Replacing the null values with the median value of that columns\n",
    "    #Before the preprocessing we did observe what columns contain null values and onlt flow Bytes contain that\n",
    "    median_values_each_class=df.groupby(' Label')['Flow Bytes/s'].median().reset_index()\n",
    "    median_values_each_class.columns=['Label','Median']\n",
    "    median_values_each_class.set_index('Label',inplace=True)\n",
    "    median_mapping=median_values_each_class.to_dict()\n",
    "    df['Flow Bytes/s']=df['Flow Bytes/s'].fillna(df[' Label'].map(median_mapping['Median']))\n",
    "    print(df['Flow Bytes/s'].isnull().value_counts())\n",
    "    l.append(df)\n",
    "#After each iteration we combined the dataframe to form a whole dataframe\n",
    "combined_df = pd.concat(l, ignore_index=True)"
   ]
  },
  {
   "cell_type": "code",
   "execution_count": 3,
   "id": "c3526d0c",
   "metadata": {},
   "outputs": [],
   "source": [
    "#Just checking for any null values or not\n",
    "for x in combined_df.columns:\n",
    "    if combined_df[x].isnull().any()==True:\n",
    "        print(x)"
   ]
  },
  {
   "cell_type": "code",
   "execution_count": 4,
   "id": "39680cc4",
   "metadata": {},
   "outputs": [
    {
     "name": "stdout",
     "output_type": "stream",
     "text": [
      "Flow Bytes/s\n",
      " Flow Packets/s\n"
     ]
    }
   ],
   "source": [
    "#Checking for any infinite values in the data\n",
    "import numpy as np\n",
    "\n",
    "for x in combined_df.columns:\n",
    "  # Attempt to convert the column to numeric, handling errors\n",
    "  numeric_series = pd.to_numeric(combined_df[x], errors='coerce')  \n",
    "  if np.isinf(numeric_series).any():\n",
    "    print(x)"
   ]
  },
  {
   "cell_type": "code",
   "execution_count": 5,
   "id": "58136f88",
   "metadata": {},
   "outputs": [],
   "source": [
    "#WE replace the infinite values to nan and drop those nan values\n",
    "combined_df.replace([np.inf,-np.inf],np.nan,inplace=True)\n",
    "combined_df.dropna(inplace=True)"
   ]
  },
  {
   "cell_type": "code",
   "execution_count": 6,
   "id": "6f954a48-aed7-4f5d-b84e-4164d356898b",
   "metadata": {
    "colab": {
     "base_uri": "https://localhost:8080/",
     "height": 141
    },
    "id": "6f954a48-aed7-4f5d-b84e-4164d356898b",
    "outputId": "1d930696-147d-448f-fcef-79d01b8e540f"
   },
   "outputs": [],
   "source": [
    "#We store this combined file \n",
    "combined_df.to_csv('/Users/mayankkapadia/Desktop/SJSUMATERIAL/SEM1/DV/Project/TrafficLabelling /modified_daata.csv',index=False)"
   ]
  },
  {
   "cell_type": "code",
   "execution_count": null,
   "id": "de4ff261",
   "metadata": {},
   "outputs": [],
   "source": []
  }
 ],
 "metadata": {
  "colab": {
   "provenance": []
  },
  "kernelspec": {
   "display_name": "amd_gpu",
   "language": "python",
   "name": "amd_gpu"
  },
  "language_info": {
   "codemirror_mode": {
    "name": "ipython",
    "version": 3
   },
   "file_extension": ".py",
   "mimetype": "text/x-python",
   "name": "python",
   "nbconvert_exporter": "python",
   "pygments_lexer": "ipython3",
   "version": "3.9.13"
  }
 },
 "nbformat": 4,
 "nbformat_minor": 5
}
